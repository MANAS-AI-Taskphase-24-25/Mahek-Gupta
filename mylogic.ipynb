{
 "cells": [
  {
   "cell_type": "code",
   "execution_count": 11,
   "metadata": {},
   "outputs": [
    {
     "data": {
      "text/html": [
       "<div>\n",
       "<style scoped>\n",
       "    .dataframe tbody tr th:only-of-type {\n",
       "        vertical-align: middle;\n",
       "    }\n",
       "\n",
       "    .dataframe tbody tr th {\n",
       "        vertical-align: top;\n",
       "    }\n",
       "\n",
       "    .dataframe thead th {\n",
       "        text-align: right;\n",
       "    }\n",
       "</style>\n",
       "<table border=\"1\" class=\"dataframe\">\n",
       "  <thead>\n",
       "    <tr style=\"text-align: right;\">\n",
       "      <th></th>\n",
       "      <th>Unnamed: 0</th>\n",
       "      <th>Area</th>\n",
       "      <th>Perimeter</th>\n",
       "      <th>Major_Axis_Length</th>\n",
       "      <th>Minor_Axis_Length</th>\n",
       "      <th>Convex_Area</th>\n",
       "      <th>Equiv_Diameter</th>\n",
       "      <th>Eccentricity</th>\n",
       "      <th>Solidity</th>\n",
       "      <th>Extent</th>\n",
       "      <th>Roundness</th>\n",
       "      <th>Aspect_Ration</th>\n",
       "      <th>Compactness</th>\n",
       "      <th>Class</th>\n",
       "    </tr>\n",
       "  </thead>\n",
       "  <tbody>\n",
       "    <tr>\n",
       "      <th>0</th>\n",
       "      <td>0</td>\n",
       "      <td>63011</td>\n",
       "      <td>961.163</td>\n",
       "      <td>371.5589</td>\n",
       "      <td>216.5940</td>\n",
       "      <td>63511</td>\n",
       "      <td>283.2456</td>\n",
       "      <td>0.8125</td>\n",
       "      <td>0.9921</td>\n",
       "      <td>0.7301</td>\n",
       "      <td>0.8571</td>\n",
       "      <td>1.7155</td>\n",
       "      <td>0.7623</td>\n",
       "      <td>Çerçevelik</td>\n",
       "    </tr>\n",
       "    <tr>\n",
       "      <th>1</th>\n",
       "      <td>1</td>\n",
       "      <td>75917</td>\n",
       "      <td>1069.411</td>\n",
       "      <td>420.2925</td>\n",
       "      <td>230.6208</td>\n",
       "      <td>76613</td>\n",
       "      <td>310.9028</td>\n",
       "      <td>0.8360</td>\n",
       "      <td>0.9909</td>\n",
       "      <td>0.7132</td>\n",
       "      <td>0.8342</td>\n",
       "      <td>1.8224</td>\n",
       "      <td>0.7397</td>\n",
       "      <td>Çerçevelik</td>\n",
       "    </tr>\n",
       "    <tr>\n",
       "      <th>2</th>\n",
       "      <td>2</td>\n",
       "      <td>75988</td>\n",
       "      <td>1091.948</td>\n",
       "      <td>447.6035</td>\n",
       "      <td>217.3051</td>\n",
       "      <td>76566</td>\n",
       "      <td>311.0481</td>\n",
       "      <td>0.8742</td>\n",
       "      <td>0.9925</td>\n",
       "      <td>0.7079</td>\n",
       "      <td>0.8008</td>\n",
       "      <td>2.0598</td>\n",
       "      <td>0.6949</td>\n",
       "      <td>Ürgüp Sivrisi</td>\n",
       "    </tr>\n",
       "    <tr>\n",
       "      <th>3</th>\n",
       "      <td>3</td>\n",
       "      <td>85968</td>\n",
       "      <td>1168.743</td>\n",
       "      <td>479.1606</td>\n",
       "      <td>229.2326</td>\n",
       "      <td>87008</td>\n",
       "      <td>330.8442</td>\n",
       "      <td>0.8781</td>\n",
       "      <td>0.9880</td>\n",
       "      <td>0.7495</td>\n",
       "      <td>0.7909</td>\n",
       "      <td>2.0903</td>\n",
       "      <td>0.6905</td>\n",
       "      <td>Çerçevelik</td>\n",
       "    </tr>\n",
       "    <tr>\n",
       "      <th>4</th>\n",
       "      <td>4</td>\n",
       "      <td>85386</td>\n",
       "      <td>1138.193</td>\n",
       "      <td>438.2698</td>\n",
       "      <td>248.8453</td>\n",
       "      <td>86282</td>\n",
       "      <td>329.7224</td>\n",
       "      <td>0.8232</td>\n",
       "      <td>0.9896</td>\n",
       "      <td>0.7093</td>\n",
       "      <td>0.8283</td>\n",
       "      <td>1.7612</td>\n",
       "      <td>0.7523</td>\n",
       "      <td>Çerçevelik</td>\n",
       "    </tr>\n",
       "  </tbody>\n",
       "</table>\n",
       "</div>"
      ],
      "text/plain": [
       "   Unnamed: 0   Area  Perimeter  Major_Axis_Length  Minor_Axis_Length  \\\n",
       "0           0  63011    961.163           371.5589           216.5940   \n",
       "1           1  75917   1069.411           420.2925           230.6208   \n",
       "2           2  75988   1091.948           447.6035           217.3051   \n",
       "3           3  85968   1168.743           479.1606           229.2326   \n",
       "4           4  85386   1138.193           438.2698           248.8453   \n",
       "\n",
       "   Convex_Area  Equiv_Diameter  Eccentricity  Solidity  Extent  Roundness  \\\n",
       "0        63511        283.2456        0.8125    0.9921  0.7301     0.8571   \n",
       "1        76613        310.9028        0.8360    0.9909  0.7132     0.8342   \n",
       "2        76566        311.0481        0.8742    0.9925  0.7079     0.8008   \n",
       "3        87008        330.8442        0.8781    0.9880  0.7495     0.7909   \n",
       "4        86282        329.7224        0.8232    0.9896  0.7093     0.8283   \n",
       "\n",
       "   Aspect_Ration  Compactness          Class  \n",
       "0         1.7155       0.7623     Çerçevelik  \n",
       "1         1.8224       0.7397     Çerçevelik  \n",
       "2         2.0598       0.6949  Ürgüp Sivrisi  \n",
       "3         2.0903       0.6905     Çerçevelik  \n",
       "4         1.7612       0.7523     Çerçevelik  "
      ]
     },
     "execution_count": 11,
     "metadata": {},
     "output_type": "execute_result"
    }
   ],
   "source": [
    "import numpy as np\n",
    "import pandas as pd\n",
    "import matplotlib.pyplot as plt\n",
    "     \n",
    "\n",
    "# Loading data\n",
    "data = pd.read_csv(\"Gotem Pumpkins.csv\")\n",
    "test = pd.read_csv(\"Freyja_Pumpkins.csv\")\n",
    "data.head()\n",
    "test.head()\n"
   ]
  },
  {
   "cell_type": "code",
   "execution_count": 12,
   "metadata": {},
   "outputs": [
    {
     "name": "stderr",
     "output_type": "stream",
     "text": [
      "C:\\Users\\mahek\\AppData\\Local\\Temp\\ipykernel_22676\\4232600020.py:8: FutureWarning: Downcasting behavior in `replace` is deprecated and will be removed in a future version. To retain the old behavior, explicitly call `result.infer_objects(copy=False)`. To opt-in to the future behavior, set `pd.set_option('future.no_silent_downcasting', True)`\n",
      "  datan[column_name] = datan[column_name].replace(binary_converting)\n"
     ]
    }
   ],
   "source": [
    "# Removing unnecessary columns and handling missing values\n",
    "train_gotem_df = data.drop([\"Unnamed: 0\"], axis=1).dropna()\n",
    "test_freyja_df = test.drop([\"Unnamed: 0\"], axis=1).dropna()\n",
    "\n",
    "# Binary encode function\n",
    "def binary(datan, column_name, value_for_zero, value_for_one):\n",
    "    binary_converting = {value_for_zero: 0, value_for_one: 1}\n",
    "    datan[column_name] = datan[column_name].replace(binary_converting)\n",
    "    return datan\n",
    "\n",
    "# Binary encoding for target variables\n",
    "train_gotem_df = binary(train_gotem_df, 'Class', 'Ürgüp Sivrisi', 'Çerçevelik')\n",
    "test_freyja_df = binary(test_freyja_df, 'Class', 'Ürgüp Sivrisi', 'Çerçevelik')\n",
    "\n",
    "# Selecting features\n",
    "features = ['Area', 'Perimeter', 'Major_Axis_Length', 'Minor_Axis_Length', 'Convex_Area', \n",
    "            'Equiv_Diameter', 'Eccentricity', 'Solidity', 'Extent', 'Roundness', \n",
    "            'Aspect_Ration', 'Compactness']\n",
    "\n",
    "# Splitting data into features (X) and target (y)\n",
    "X_train = train_gotem_df[features].values.astype('float64')\n",
    "y_train = train_gotem_df['Class'].values\n",
    "X_test = test_freyja_df[features].values.astype('float64')\n",
    "y_test = test_freyja_df['Class'].values"
   ]
  },
  {
   "cell_type": "code",
   "execution_count": 13,
   "metadata": {},
   "outputs": [
    {
     "name": "stdout",
     "output_type": "stream",
     "text": [
      "Shape of X_train: (2000, 12)\n",
      "Shape of y_train: (2000,)\n"
     ]
    }
   ],
   "source": [
    "\n",
    "\n",
    "# Z-score normalization\n",
    "X_train_mean = X_train.mean(axis=0)\n",
    "X_train_std = X_train.std(axis=0)\n",
    "\n",
    "X_train = (X_train - X_train_mean) / X_train_std\n",
    "X_test = (X_test - X_train_mean) / X_train_std\n",
    "\n",
    "# Checking the shapes of the arrays\n",
    "print(\"Shape of X_train:\", X_train.shape)\n",
    "print(\"Shape of y_train:\", y_train.shape)"
   ]
  },
  {
   "cell_type": "code",
   "execution_count": 14,
   "metadata": {},
   "outputs": [],
   "source": [
    "\n",
    "# Sigmoid function\n",
    "def sigmoid(z):\n",
    "    return 1 / (1 + np.exp(-z))\n",
    "\n"
   ]
  },
  {
   "cell_type": "code",
   "execution_count": 15,
   "metadata": {},
   "outputs": [],
   "source": [
    "# Cost function\n",
    "def cost(x, y, weights, bias):\n",
    "    m = len(y)\n",
    "    z = np.dot(x, weights) + bias\n",
    "    y_pred = sigmoid(z)\n",
    "    return -(1/m) * np.sum(y * np.log(y_pred) + (1-y) * np.log(1-y_pred))"
   ]
  },
  {
   "cell_type": "code",
   "execution_count": 16,
   "metadata": {},
   "outputs": [],
   "source": [
    "def log_likelihood(x, y, weights, bias):\n",
    "    z = np.dot(x, weights) + bias\n",
    "    y_pred = sigmoid(z)\n",
    "    return np.sum(y * np.log(y_pred) + (1 - y) * np.log(1 - y_pred))"
   ]
  },
  {
   "cell_type": "code",
   "execution_count": 17,
   "metadata": {},
   "outputs": [
    {
     "name": "stdout",
     "output_type": "stream",
     "text": [
      "Log Likelihood every 100 iterations:\n",
      "Iteration 0: -1384.9323\n",
      "Iteration 100: -1265.6671\n",
      "Iteration 200: -1173.9683\n",
      "Iteration 300: -1102.4702\n",
      "Iteration 400: -1045.7766\n",
      "Iteration 500: -1000.0491\n",
      "Iteration 600: -962.5701\n",
      "Iteration 700: -931.4016\n",
      "Iteration 800: -905.1422\n",
      "Iteration 900: -882.7625\n",
      "Iteration 1000: -863.4938\n",
      "Iteration 1100: -846.7531\n",
      "Iteration 1200: -832.0913\n",
      "Iteration 1300: -819.1578\n",
      "Iteration 1400: -807.6753\n",
      "Iteration 1500: -797.4218\n",
      "Iteration 1600: -788.2177\n",
      "Iteration 1700: -779.9161\n",
      "Iteration 1800: -772.3961\n",
      "Iteration 1900: -765.5570\n",
      "Iteration 2000: -759.3145\n",
      "Iteration 2100: -753.5972\n",
      "Iteration 2200: -748.3448\n",
      "Iteration 2300: -743.5056\n",
      "Iteration 2400: -739.0350\n",
      "Iteration 2500: -734.8947\n",
      "Iteration 2600: -731.0513\n",
      "Iteration 2700: -727.4756\n",
      "Iteration 2800: -724.1423\n",
      "Iteration 2900: -721.0288\n",
      "Iteration 3000: -718.1154\n",
      "Iteration 3100: -715.3844\n",
      "Iteration 3200: -712.8203\n",
      "Iteration 3300: -710.4092\n",
      "Iteration 3400: -708.1385\n",
      "Iteration 3500: -705.9972\n",
      "Iteration 3600: -703.9751\n",
      "Iteration 3700: -702.0633\n",
      "Iteration 3800: -700.2534\n",
      "Iteration 3900: -698.5381\n",
      "Iteration 4000: -696.9106\n",
      "Iteration 4100: -695.3648\n",
      "Iteration 4200: -693.8951\n",
      "Iteration 4300: -692.4964\n",
      "Iteration 4400: -691.1640\n",
      "Iteration 4500: -689.8937\n",
      "Iteration 4600: -688.6814\n",
      "Iteration 4700: -687.5235\n",
      "Iteration 4800: -686.4168\n",
      "Iteration 4900: -685.3581\n"
     ]
    }
   ],
   "source": [
    "# Logistic regression with gradient descent\n",
    "def logistic_regression(X, y, weights, bias, alpha, iterations):\n",
    "    m = len(y)\n",
    "    cost_history = []\n",
    "    log_history = []\n",
    "\n",
    "    for i in range(iterations):\n",
    "        # Predictions\n",
    "        z = np.dot(X, weights) + bias\n",
    "        y_pred = sigmoid(z)\n",
    "        \n",
    "        # Gradients\n",
    "        dw = (1/m) * np.dot(X.T, (y_pred - y))\n",
    "        db = (1/m) * np.sum(y_pred - y)\n",
    "        \n",
    "        # Update parameters\n",
    "        weights -= alpha * dw\n",
    "        bias -= alpha * db\n",
    "\n",
    "        # Track cost and log likelihood\n",
    "        if i % 100 == 0:\n",
    "            current_cost = cost(X, y, weights, bias)\n",
    "            current_log = log_likelihood(X, y, weights, bias)\n",
    "            cost_history.append(current_cost)\n",
    "            log_history.append(current_log)\n",
    "\n",
    "    return weights, bias, cost_history, log_history\n",
    "\n",
    "# Initialize weights and bias\n",
    "weights = np.zeros(X_train.shape[1])\n",
    "bias = 0\n",
    "\n",
    "# Training\n",
    "alpha = 0.001\n",
    "iterations = 5000\n",
    "weights, bias, cost_history, log_history = logistic_regression(X_train, y_train, weights, bias, alpha, iterations)\n",
    "\n",
    "# Print log likelihoods\n",
    "print(f\"Log Likelihood every 100 iterations:\")\n",
    "for i, log_val in enumerate(log_history):\n",
    "    print(f\"Iteration {i * 100}: {log_val:.4f}\")"
   ]
  },
  {
   "cell_type": "code",
   "execution_count": 18,
   "metadata": {},
   "outputs": [
    {
     "name": "stdout",
     "output_type": "stream",
     "text": [
      "Train Accuracy: 86.60%\n",
      "Test Accuracy: 87.20%\n"
     ]
    }
   ],
   "source": [
    "# Prediction function\n",
    "def predicted(X, weights, bias):\n",
    "    z = np.dot(X, weights) + bias\n",
    "    y_pred = sigmoid(z)\n",
    "    return np.array([1 if i > 0.5 else 0 for i in y_pred])\n",
    "\n",
    "# Predictions\n",
    "train_preds = predicted(X_train, weights, bias)\n",
    "test_preds = predicted(X_test, weights, bias)\n",
    "\n",
    "# Accuracy\n",
    "train_accuracy = np.mean(train_preds == y_train) * 100\n",
    "test_accuracy = np.mean(test_preds == y_test) * 100\n",
    "print(f\"Train Accuracy: {train_accuracy:.2f}%\")\n",
    "print(f\"Test Accuracy: {test_accuracy:.2f}%\")"
   ]
  },
  {
   "cell_type": "code",
   "execution_count": 19,
   "metadata": {},
   "outputs": [
    {
     "data": {
      "image/png": "[encoded data removed]",
      "text/plain": [
       "<Figure size 640x480 with 1 Axes>"
      ]
     },
     "metadata": {},
     "output_type": "display_data"
    }
   ],
   "source": [
    "plt.plot(range(0, iterations, 100), cost_history)\n",
    "plt.xlabel('Iterations (x100)')\n",
    "plt.ylabel('Cost')\n",
    "plt.title('Training Cost over Iterations')\n",
    "plt.show()"
   ]
  },
  {
   "cell_type": "code",
   "execution_count": 20,
   "metadata": {},
   "outputs": [
    {
     "data": {
      "image/png": "[encoded data removed]",
      "text/plain": [
       "<Figure size 640x480 with 1 Axes>"
      ]
     },
     "metadata": {},
     "output_type": "display_data"
    }
   ],
   "source": [
    "# Plot log likelihood\n",
    "plt.plot(range(0, iterations, 100), log_history)\n",
    "plt.xlabel('Iterations (x100)')\n",
    "plt.ylabel('Log Likelihood')\n",
    "plt.title('Log Likelihood over Iterations')\n",
    "plt.show()"
   ]
  },
  {
   "cell_type": "code",
   "execution_count": 21,
   "metadata": {},
   "outputs": [
    {
     "data": {
      "image/png": "[encoded data removed]",
      "text/plain": [
       "<Figure size 640x480 with 1 Axes>"
      ]
     },
     "metadata": {},
     "output_type": "display_data"
    }
   ],
   "source": [
    "# Plotting feature against the class for visualization \n",
    "plt.scatter(X_train[:, 0], y_train, color='blue')\n",
    "plt.xlabel('Area')\n",
    "plt.ylabel('Class')\n",
    "plt.title('Area vs Class')\n",
    "plt.show()"
   ]
  }
 ],
 "metadata": {
  "kernelspec": {
   "display_name": "Python 3",
   "language": "python",
   "name": "python3"
  },
  "language_info": {
   "codemirror_mode": {
    "name": "ipython",
    "version": 3
   },
   "file_extension": ".py",
   "mimetype": "text/x-python",
   "name": "python",
   "nbconvert_exporter": "python",
   "pygments_lexer": "ipython3",
   "version": "3.12.4"
  }
 },
 "nbformat": 4,
 "nbformat_minor": 2
}
