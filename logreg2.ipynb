{
 "cells": [
  {
   "cell_type": "code",
   "execution_count": 1,
   "metadata": {},
   "outputs": [
    {
     "data": {
      "text/html": [
       "<div>\n",
       "<style scoped>\n",
       "    .dataframe tbody tr th:only-of-type {\n",
       "        vertical-align: middle;\n",
       "    }\n",
       "\n",
       "    .dataframe tbody tr th {\n",
       "        vertical-align: top;\n",
       "    }\n",
       "\n",
       "    .dataframe thead th {\n",
       "        text-align: right;\n",
       "    }\n",
       "</style>\n",
       "<table border=\"1\" class=\"dataframe\">\n",
       "  <thead>\n",
       "    <tr style=\"text-align: right;\">\n",
       "      <th></th>\n",
       "      <th>Unnamed: 0.1</th>\n",
       "      <th>Unnamed: 0</th>\n",
       "      <th>Temperature (°C)</th>\n",
       "      <th>Pressure (kPa)</th>\n",
       "      <th>Temperature x Pressure</th>\n",
       "      <th>Material Fusion Metric</th>\n",
       "      <th>Material Transformation Metric</th>\n",
       "    </tr>\n",
       "  </thead>\n",
       "  <tbody>\n",
       "    <tr>\n",
       "      <th>0</th>\n",
       "      <td>0</td>\n",
       "      <td>2500</td>\n",
       "      <td>270.264688</td>\n",
       "      <td>11.023763</td>\n",
       "      <td>2979.333789</td>\n",
       "      <td>74382.645868</td>\n",
       "      <td>1.974082e+07</td>\n",
       "    </tr>\n",
       "    <tr>\n",
       "      <th>1</th>\n",
       "      <td>1</td>\n",
       "      <td>2501</td>\n",
       "      <td>147.113440</td>\n",
       "      <td>24.851899</td>\n",
       "      <td>3656.048303</td>\n",
       "      <td>36991.316027</td>\n",
       "      <td>3.183265e+06</td>\n",
       "    </tr>\n",
       "    <tr>\n",
       "      <th>2</th>\n",
       "      <td>2</td>\n",
       "      <td>2502</td>\n",
       "      <td>251.636694</td>\n",
       "      <td>19.861983</td>\n",
       "      <td>4998.003812</td>\n",
       "      <td>71156.545998</td>\n",
       "      <td>1.593350e+07</td>\n",
       "    </tr>\n",
       "    <tr>\n",
       "      <th>3</th>\n",
       "      <td>3</td>\n",
       "      <td>2503</td>\n",
       "      <td>226.765023</td>\n",
       "      <td>23.301227</td>\n",
       "      <td>5283.903266</td>\n",
       "      <td>64073.710961</td>\n",
       "      <td>1.166025e+07</td>\n",
       "    </tr>\n",
       "    <tr>\n",
       "      <th>4</th>\n",
       "      <td>4</td>\n",
       "      <td>2504</td>\n",
       "      <td>291.025207</td>\n",
       "      <td>16.896895</td>\n",
       "      <td>4917.422268</td>\n",
       "      <td>89519.819801</td>\n",
       "      <td>2.464829e+07</td>\n",
       "    </tr>\n",
       "  </tbody>\n",
       "</table>\n",
       "</div>"
      ],
      "text/plain": [
       "   Unnamed: 0.1  Unnamed: 0  Temperature (°C)  Pressure (kPa)  \\\n",
       "0             0        2500        270.264688       11.023763   \n",
       "1             1        2501        147.113440       24.851899   \n",
       "2             2        2502        251.636694       19.861983   \n",
       "3             3        2503        226.765023       23.301227   \n",
       "4             4        2504        291.025207       16.896895   \n",
       "\n",
       "   Temperature x Pressure  Material Fusion Metric  \\\n",
       "0             2979.333789            74382.645868   \n",
       "1             3656.048303            36991.316027   \n",
       "2             4998.003812            71156.545998   \n",
       "3             5283.903266            64073.710961   \n",
       "4             4917.422268            89519.819801   \n",
       "\n",
       "   Material Transformation Metric  \n",
       "0                    1.974082e+07  \n",
       "1                    3.183265e+06  \n",
       "2                    1.593350e+07  \n",
       "3                    1.166025e+07  \n",
       "4                    2.464829e+07  "
      ]
     },
     "execution_count": 1,
     "metadata": {},
     "output_type": "execute_result"
    }
   ],
   "source": [
    "import pandas as pd\n",
    "import numpy as np\n",
    "import matplotlib.pyplot as plt\n",
    "\n",
    "seniors_data = pd.read_csv(\"Seniors.csv\")\n",
    "juniors_data = pd.read_csv(\"Juniors.csv\")\n",
    "\n",
    "#cleaning of data\n",
    "seniors_data = seniors_data.drop([\"Unnamed: 0\"], axis=1)\n",
    "seniors_data = seniors_data.dropna()\n",
    "#printing the data\n",
    "seniors_data.head()\n",
    "juniors_data.head()"
   ]
  },
  {
   "cell_type": "code",
   "execution_count": 2,
   "metadata": {},
   "outputs": [],
   "source": [
    "#to separate the values\n",
    "data_variables = ['Temperature (°C)', 'Pressure (kPa)', 'Temperature x Pressure', 'Material Fusion Metric', 'Material Transformation Metric']\n",
    "X_seniors = seniors_data[data_variables].values\n",
    "Y_seniors = seniors_data['Quality Rating'].values\n",
    "X_juniors = juniors_data[data_variables].values"
   ]
  },
  {
   "cell_type": "code",
   "execution_count": null,
   "metadata": {},
   "outputs": [],
   "source": [
    "#to normalize the data\n",
    "X_seniors_mean=X_seniors.mean()\n",
    "X_seniors_std=X_seniors.std()\n",
    "X_seniors=(X_seniors-X_seniors.mean())/(X_seniors_std)\n",
    "X_juniors=(X_juniors-X_seniors.mean())/(X_seniors_std)\n"
   ]
  },
  {
   "cell_type": "code",
   "execution_count": null,
   "metadata": {},
   "outputs": [],
   "source": [
    "#check linear reg did not work then what will\n",
    "\n",
    "\n"
   ]
  }
 ],
 "metadata": {
  "kernelspec": {
   "display_name": "Python 3",
   "language": "python",
   "name": "python3"
  },
  "language_info": {
   "codemirror_mode": {
    "name": "ipython",
    "version": 3
   },
   "file_extension": ".py",
   "mimetype": "text/x-python",
   "name": "python",
   "nbconvert_exporter": "python",
   "pygments_lexer": "ipython3",
   "version": "3.12.4"
  }
 },
 "nbformat": 4,
 "nbformat_minor": 2
}
