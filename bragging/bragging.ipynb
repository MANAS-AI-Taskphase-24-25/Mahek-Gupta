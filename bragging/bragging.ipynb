{
 "cells": [
  {
   "cell_type": "code",
   "execution_count": 3,
   "metadata": {},
   "outputs": [],
   "source": [
    "import numpy as np\n",
    "import pandas as pd\n",
    "import matplotlib.pyplot as plt\n",
    "from sklearn.tree import DecisionTreeClassifier\n",
    "from sklearn.ensemble import RandomForestClassifier, BaggingClassifier,HistGradientBoostingClassifier, AdaBoostClassifier\n",
    "from sklearn.model_selection import KFold\n",
    "from sklearn.metrics import accuracy_score\n",
    "from sklearn.preprocessing import LabelEncoder\n"
   ]
  },
  {
   "cell_type": "code",
   "execution_count": 5,
   "metadata": {},
   "outputs": [
    {
     "name": "stdout",
     "output_type": "stream",
     "text": [
      "   Unnamed: 0     id       dur  ... is_sm_ips_ports attack_cat label\n",
      "0       40000  40001  0.012996  ...               0     Normal     0\n",
      "1       40001  40002  0.004119  ...               0     Normal     0\n",
      "2       40002  40003  0.000988  ...               0     Normal     0\n",
      "3       40003  40004  3.415787  ...               0     Normal     0\n",
      "4       40004  40005  0.193943  ...               0     Normal     0\n",
      "\n",
      "[5 rows x 46 columns]\n"
     ]
    }
   ],
   "source": [
    "df=pd.read_csv(\"Threats (1).csv\")\n",
    "print(df.head())"
   ]
  },
  {
   "cell_type": "code",
   "execution_count": 6,
   "metadata": {},
   "outputs": [],
   "source": [
    "def frequency_encoding(df,categorial_columns):\n",
    "    encoding={}\n",
    "    for col in categorial_columns:\n",
    "        freq=df[col].value_counts()\n",
    "        df[col]=df[col].map(freq)\n",
    "        encoding[col]=freq\n",
    "    return df,encoding\n"
   ]
  },
  {
   "cell_type": "code",
   "execution_count": 12,
   "metadata": {},
   "outputs": [],
   "source": [
    "freq = {}\n",
    "df.drop(['Unnamed: 0','id'], axis = 'columns' ,inplace = True)\n",
    "df,freq = frequency_encoding(df,['proto','service','state'])\n",
    "labels = LabelEncoder()\n",
    "df['attack_cat'] = labels.fit_transform(df['attack_cat'])\n",
    "\n",
    "predict_feature = df['attack_cat'].to_numpy()\n",
    "df.drop(['attack_cat'], axis = 'columns', inplace = True)\n",
    "features =  df.to_numpy()"
   ]
  },
  {
   "cell_type": "code",
   "execution_count": 13,
   "metadata": {},
   "outputs": [],
   "source": [
    "def KFold_crossval(x,y,clsr):\n",
    "    kfold = KFold(n_splits = 6)\n",
    "    accuracy = []\n",
    "    for idx_train,idx_test in kfold.split(x,y):\n",
    "        clsr.fit(x[idx_train],y[idx_train])\n",
    "        y_predict = clsr.predict(x[idx_test])\n",
    "        acc = accuracy_score(y[idx_test],y_predict)\n",
    "        accuracy.append(acc)\n",
    "    print(f\"Average Accuracy = {sum(accuracy)/len(accuracy)}\")\n",
    "    print(accuracy)"
   ]
  },
  {
   "cell_type": "code",
   "execution_count": 14,
   "metadata": {},
   "outputs": [
    {
     "name": "stdout",
     "output_type": "stream",
     "text": [
      "Average Accuracy = 0.8217991014357882\n",
      "[0.8318925389014497, 0.7347608281243073, 0.7347608281243073, 0.7989980937181362, 0.8963957973134725, 0.9339865224330555]\n"
     ]
    }
   ],
   "source": [
    "# Random forest\n",
    "rfc = RandomForestClassifier(n_estimators = 10)\n",
    "KFold_crossval(features,predict_feature,rfc)"
   ]
  },
  {
   "cell_type": "code",
   "execution_count": 15,
   "metadata": {},
   "outputs": [
    {
     "name": "stdout",
     "output_type": "stream",
     "text": [
      "Average Accuracy = 0.8227079249719749\n",
      "[0.8331781708560535, 0.7371990956244181, 0.73289887839695, 0.798776433036308, 0.8982134149044643, 0.9359815570136549]\n"
     ]
    }
   ],
   "source": [
    "# Bagging\n",
    "bagging = BaggingClassifier(n_estimators = 10)\n",
    "KFold_crossval(features,predict_feature,bagging)"
   ]
  },
  {
   "cell_type": "code",
   "execution_count": 16,
   "metadata": {},
   "outputs": [
    {
     "name": "stdout",
     "output_type": "stream",
     "text": [
      "Average Accuracy = 0.8301926666732338\n",
      "[0.8400939841290952, 0.7507203972159419, 0.7477944762158089, 0.8078201888549009, 0.8988340648135834, 0.9358928888100727]\n"
     ]
    }
   ],
   "source": [
    "# Boosting - Histogram Gradient Boosting\n",
    "hgbc = HistGradientBoostingClassifier()\n",
    "KFold_crossval(features,predict_feature,hgbc)"
   ]
  },
  {
   "cell_type": "code",
   "execution_count": 17,
   "metadata": {},
   "outputs": [
    {
     "name": "stderr",
     "output_type": "stream",
     "text": [
      "C:\\Users\\mahek\\AppData\\Roaming\\Python\\Python312\\site-packages\\sklearn\\ensemble\\_weight_boosting.py:527: FutureWarning: The SAMME.R algorithm (the default) is deprecated and will be removed in 1.6. Use the SAMME algorithm to circumvent this warning.\n",
      "  warnings.warn(\n",
      "C:\\Users\\mahek\\AppData\\Roaming\\Python\\Python312\\site-packages\\sklearn\\ensemble\\_weight_boosting.py:527: FutureWarning: The SAMME.R algorithm (the default) is deprecated and will be removed in 1.6. Use the SAMME algorithm to circumvent this warning.\n",
      "  warnings.warn(\n",
      "C:\\Users\\mahek\\AppData\\Roaming\\Python\\Python312\\site-packages\\sklearn\\ensemble\\_weight_boosting.py:527: FutureWarning: The SAMME.R algorithm (the default) is deprecated and will be removed in 1.6. Use the SAMME algorithm to circumvent this warning.\n",
      "  warnings.warn(\n",
      "C:\\Users\\mahek\\AppData\\Roaming\\Python\\Python312\\site-packages\\sklearn\\ensemble\\_weight_boosting.py:527: FutureWarning: The SAMME.R algorithm (the default) is deprecated and will be removed in 1.6. Use the SAMME algorithm to circumvent this warning.\n",
      "  warnings.warn(\n",
      "C:\\Users\\mahek\\AppData\\Roaming\\Python\\Python312\\site-packages\\sklearn\\ensemble\\_weight_boosting.py:527: FutureWarning: The SAMME.R algorithm (the default) is deprecated and will be removed in 1.6. Use the SAMME algorithm to circumvent this warning.\n",
      "  warnings.warn(\n",
      "C:\\Users\\mahek\\AppData\\Roaming\\Python\\Python312\\site-packages\\sklearn\\ensemble\\_weight_boosting.py:527: FutureWarning: The SAMME.R algorithm (the default) is deprecated and will be removed in 1.6. Use the SAMME algorithm to circumvent this warning.\n",
      "  warnings.warn(\n"
     ]
    },
    {
     "name": "stdout",
     "output_type": "stream",
     "text": [
      "Average Accuracy = 0.6914619460522738\n",
      "[0.6716761980759853, 0.5877997960721727, 0.573391851753336, 0.678193022121736, 0.7950082014452277, 0.8427026068451853]\n"
     ]
    },
    {
     "ename": "",
     "evalue": "",
     "output_type": "error",
     "traceback": [
      "\u001b[1;31mThe Kernel crashed while executing code in the current cell or a previous cell. \n",
      "\u001b[1;31mPlease review the code in the cell(s) to identify a possible cause of the failure. \n",
      "\u001b[1;31mClick <a href='https://aka.ms/vscodeJupyterKernelCrash'>here</a> for more info. \n",
      "\u001b[1;31mView Jupyter <a href='command:jupyter.viewOutput'>log</a> for further details."
     ]
    }
   ],
   "source": [
    "# Boosting - Ada Boost\n",
    "abc = AdaBoostClassifier(n_estimators = 10)\n",
    "KFold_crossval(features,predict_feature,abc)"
   ]
  }
 ],
 "metadata": {
  "kernelspec": {
   "display_name": "Python 3",
   "language": "python",
   "name": "python3"
  },
  "language_info": {
   "codemirror_mode": {
    "name": "ipython",
    "version": 3
   },
   "file_extension": ".py",
   "mimetype": "text/x-python",
   "name": "python",
   "nbconvert_exporter": "python",
   "pygments_lexer": "ipython3",
   "version": "3.12.4"
  }
 },
 "nbformat": 4,
 "nbformat_minor": 2
}
